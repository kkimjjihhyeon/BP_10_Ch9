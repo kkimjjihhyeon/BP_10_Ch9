{
  "nbformat": 4,
  "nbformat_minor": 0,
  "metadata": {
    "colab": {
      "provenance": [],
      "authorship_tag": "ABX9TyMvDRyWjJgGGL4xLXQqRVqd",
      "include_colab_link": true
    },
    "kernelspec": {
      "name": "python3",
      "display_name": "Python 3"
    },
    "language_info": {
      "name": "python"
    }
  },
  "cells": [
    {
      "cell_type": "markdown",
      "metadata": {
        "id": "view-in-github",
        "colab_type": "text"
      },
      "source": [
        "<a href=\"https://colab.research.google.com/github/kkimjjihhyeon/BP_10_Ch9/blob/main/BP_10_EX_Ch9.ipynb\" target=\"_parent\"><img src=\"https://colab.research.google.com/assets/colab-badge.svg\" alt=\"Open In Colab\"/></a>"
      ]
    },
    {
      "cell_type": "code",
      "execution_count": 1,
      "metadata": {
        "colab": {
          "base_uri": "https://localhost:8080/"
        },
        "id": "eOFpiK0alPsr",
        "outputId": "78e663d6-df93-46b8-b8a7-6af3e04d360f"
      },
      "outputs": [
        {
          "output_type": "stream",
          "name": "stdout",
          "text": [
            "정수를 입력하시오:10\n",
            "정수를 입력하시오:20\n",
            "정수를 입력하시오:30\n",
            "정수를 입력하시오:40\n",
            "정수를 입력하시오:50\n",
            "평균= 30.0\n"
          ]
        }
      ],
      "source": [
        "list=[]\n",
        "list.append(int(input(\"정수를 입력하시오:\"))) #리스트에 정수 값 추가\n",
        "list.append(int(input(\"정수를 입력하시오:\"))) #리스트에 정수 값 추가\n",
        "list.append(int(input(\"정수를 입력하시오:\"))) #리스트에 정수 값 추가\n",
        "list.append(int(input(\"정수를 입력하시오:\"))) #리스트에 정수 값 추가\n",
        "list.append(int(input(\"정수를 입력하시오:\"))) #리스트에 정수 값 추가\n",
        "\n",
        "avg= (list[0]+list[1]+list[2]+list[3]+list[4])/len(list) #평균을 구하는식\n",
        "\n",
        "print(\"평균=\",avg) #평균을 프린트"
      ]
    },
    {
      "cell_type": "code",
      "source": [
        "import random\n",
        "count=[0,0,0,0,0,0] #리스트 생성\n",
        "for i in range(1000): #반복문 1000번반복\n",
        "    r=random.randint(0,5) #0~5까지 무작위 수 지정\n",
        "    \n",
        "    count[r]=count[r]+1 #생성된 숫자를 카운트\n",
        "\n",
        "print(\"주사위가 1인 경우는 \",count[0]) \n",
        "print(\"주사위가 2인 경우는 \",count[1]) \n",
        "print(\"주사위가 3인 경우는 \",count[2]) \n",
        "print(\"주사위가 4인 경우는 \",count[3]) \n",
        "print(\"주사위가 5인 경우는 \",count[4]) \n",
        "print(\"주사위가 6인 경우는 \",count[5])"
      ],
      "metadata": {
        "colab": {
          "base_uri": "https://localhost:8080/"
        },
        "id": "Qv_SPn0qmJuC",
        "outputId": "b615c1f9-0e9f-4b6c-9cc8-e4b68399fd92"
      },
      "execution_count": 7,
      "outputs": [
        {
          "output_type": "stream",
          "name": "stdout",
          "text": [
            "주사위가 1인 경우는  154\n",
            "주사위가 2인 경우는  156\n",
            "주사위가 3인 경우는  185\n",
            "주사위가 4인 경우는  179\n",
            "주사위가 5인 경우는  142\n",
            "주사위가 6인 경우는  184\n"
          ]
        }
      ]
    },
    {
      "cell_type": "code",
      "execution_count": null,
      "metadata": {
        "colab": {
          "base_uri": "https://localhost:8080/"
        },
        "id": "VWZC0-j31lTn",
        "outputId": "b08a8182-974d-4441-cac0-b51bb194fbc5"
      },
      "outputs": [
        {
          "output_type": "stream",
          "name": "stdout",
          "text": [
            "(입력모드)이름을 입력하시오: 홍길동\n",
            "전화번호를 입력하시오: 111-2222\n",
            "(입력모드)이름을 입력하시오: 김철수\n",
            "전화번호를 입력하시오: 222-3333\n",
            "(입력모드)이름을 입력하시오: \n",
            "(검색모드)이름을 입력하시오: 홍길동\n",
            "홍길동 의 전화번호는 111-2222 입니다.\n"
          ]
        }
      ],
      "source": [
        "contacts = {}  #딕셔너리 생성\n",
        "while True: #무한루프 생성\n",
        "    name = input(\"(입력모드)이름을 입력하시오: \") #name변수 선언\n",
        "    if not name: \n",
        "        break;\n",
        "    tel = input(\"전화번호를 입력하시오: \") #tel변수 선언\n",
        "    contacts[name] = tel #딕셔너리에 tel 데이터값 할당\n",
        "while True:\n",
        "    search = input(\"(검색모드)이름을 입력하시오: \") #search변수 선언\n",
        "    print(\"%s 의 전화번호는 %s 입니다.\"%(search, contacts[search])) #딕셔너리 데이터에 접근\n",
        "    if not search:\n",
        "        break;\n"
      ]
    },
    {
      "cell_type": "code",
      "execution_count": null,
      "metadata": {
        "colab": {
          "base_uri": "https://localhost:8080/"
        },
        "id": "QE74ymhM2cwu",
        "outputId": "7f1689e7-9820-47a3-d0e5-e077e8febb2c"
      },
      "outputs": [
        {
          "name": "stdout",
          "output_type": "stream",
          "text": [
            "kr : 대한민국\n",
            "sk : 슬로바키아\n",
            "no : 노르웨이\n",
            "us : 미국\n",
            "jp : 일본\n",
            "hu : 헝가리\n",
            "de : 독일\n"
          ]
        }
      ],
      "source": [
        "domains = {\"kr\": \"대한민국\", \"sk\": \"슬로바키아\", \"no\": \"노르웨이\", \"us\": \"미국\", \"jp\": \"일본\", \"hu\": \"헝가리\", \"de\": \"독일\"}\n",
        "for k, v in domains.items():\n",
        "    print(k, \":\", v)"
      ]
    },
    {
      "cell_type": "code",
      "execution_count": null,
      "metadata": {
        "colab": {
          "base_uri": "https://localhost:8080/"
        },
        "id": "Vl1OdZOg2p8e",
        "outputId": "4175ecb4-6f83-4415-84eb-2d549d652db9"
      },
      "outputs": [
        {
          "name": "stdout",
          "output_type": "stream",
          "text": [
            "다음은 어떤 단어에 대한 설명일까요?\n",
            "최근에 가장 떠오르는 프로그래밍 언어\n",
            "(1)파이썬 (2)함수 (3)리스트 (4)변수\n",
            "정답(문자만 입력할 것): 파이썬\n",
            "정답입니다!\n",
            "다음은 어떤 단어에 대한 설명일까요?\n",
            "데이터를 저장하는 메모리 공간\n",
            "(1)파이썬 (2)함수 (3)리스트 (4)변수\n",
            "정답(문자만 입력할 것): 리스트\n",
            "정답이 아닙니다.\n",
            "다음은 어떤 단어에 대한 설명일까요?\n",
            "작업을 수행하는 문장들의 집합에 이름을 붙인 것\n",
            "(1)파이썬 (2)함수 (3)리스트 (4)변수\n",
            "정답(문자만 입력할 것): 변수\n",
            "정답이 아닙니다.\n",
            "다음은 어떤 단어에 대한 설명일까요?\n",
            "서로 관련이 없는 항목들의 모임\n",
            "(1)파이썬 (2)함수 (3)리스트 (4)변수\n",
            "정답(문자만 입력할 것): 리스트\n",
            "정답입니다!\n"
          ]
        }
      ],
      "source": [
        "problems = {\"파이썬\": \"최근에 가장 떠오르는 프로그래밍 언어\",\n",
        "            \"변수\": \"데이터를 저장하는 메모리 공간\",\n",
        "            \"함수\": \"작업을 수행하는 문장들의 집합에 이름을 붙인 것\",\n",
        "            \"리스트\": \"서로 관련이 없는 항목들의 모임\"}\n",
        "for word in problems.keys():\n",
        "    print(\"다음은 어떤 단어에 대한 설명일까요?\")\n",
        "    print(problems[word])\n",
        "    print(\"(1)파이썬 (2)함수 (3)리스트 (4)변수\")\n",
        "    answer = input(\"정답(문자만 입력할 것): \")\n",
        "    if answer == word:\n",
        "        print(\"정답입니다!\")\n",
        "    else:\n",
        "        print(\"정답이 아닙니다.\")"
      ]
    }
  ]
}